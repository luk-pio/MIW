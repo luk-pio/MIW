{
 "cells": [
  {
   "cell_type": "code",
   "execution_count": 1,
   "metadata": {
    "collapsed": true
   },
   "outputs": [],
   "source": [
    "import numpy as np\n",
    "import pandas as pd\n",
    "import matplotlib.pyplot as plt\n",
    "\n",
    "%matplotlib inline"
   ]
  },
  {
   "cell_type": "markdown",
   "source": [
    "## Definition of the Perceptron Class"
   ],
   "metadata": {
    "collapsed": false
   }
  },
  {
   "cell_type": "code",
   "execution_count": 3,
   "outputs": [],
   "source": [
    "class Perceptron:\n",
    "    def __init__(self, size, learning_rate=1, weights=None, threshold=0.5):\n",
    "        if size <= 0:\n",
    "            raise ValueError(\"The Perceptron input size must be > 0\")\n",
    "        if learning_rate <=0:\n",
    "            raise ValueError(\"The Perceptron learning rate must be > 0\")\n",
    "        if weights is not None and len(weights) != size:\n",
    "            raise IndexError(\"The weights array must be of the same length as in_size\")\n",
    "        if weights is None:\n",
    "            weights = np.zeros(size)\n",
    "\n",
    "        self.size = size\n",
    "        self.rate = learning_rate\n",
    "        self.weights = weights\n",
    "        self.threshold = threshold\n",
    "\n",
    "    def activate(self, x):\n",
    "        if len(x) != self.size:\n",
    "            raise IndexError(\"The input vector is not equal to perceptron size\")\n",
    "        if type(x) is not np.ndarray:\n",
    "            x = np.array(x)\n",
    "        return 1 if np.dot(self.weights , x) + self.threshold > 0 else 0\n",
    "\n",
    "    def backprop(self, x, cl):\n",
    "        error = (cl - self.activate(x))\n",
    "        delta = error * self.rate\n",
    "        self.weights += np.dot(x, delta)\n",
    "        self.threshold += delta\n",
    "        return error"
   ],
   "metadata": {
    "collapsed": false,
    "pycharm": {
     "name": "#%%\n"
    }
   }
  },
  {
   "cell_type": "markdown",
   "source": [
    "## Read the csv and turn the ordinal values into binary."
   ],
   "metadata": {
    "collapsed": false
   }
  },
  {
   "cell_type": "code",
   "execution_count": 4,
   "outputs": [],
   "source": [
    "filename = \"mushrooms.csv\"\n",
    "df = pd.read_csv(filename, dtype=\"category\")\n",
    "df = pd.get_dummies(df)\n",
    "df.drop('class_p', axis=1, inplace=True)"
   ],
   "metadata": {
    "collapsed": false,
    "pycharm": {
     "name": "#%%\n"
    }
   }
  },
  {
   "cell_type": "markdown",
   "source": [
    "## Train the perceptron"
   ],
   "metadata": {
    "collapsed": false
   }
  },
  {
   "cell_type": "code",
   "execution_count": 7,
   "outputs": [
    {
     "data": {
      "text/plain": "<Figure size 432x288 with 1 Axes>",
      "image/png": "[encoded data removed]"
     },
     "metadata": {
      "needs_background": "light"
     },
     "output_type": "display_data"
    }
   ],
   "source": [
    "iterations = 20\n",
    "\n",
    "perc = Perceptron(df.shape[1] - 1)\n",
    "\n",
    "mscl = []\n",
    "for i in range(iterations):\n",
    "    misclassified = 0\n",
    "    for j, row in df.iterrows():\n",
    "        error = perc.backprop(row[1:], row[0])\n",
    "        if error != 0:\n",
    "            misclassified += 1\n",
    "    mscl.append(misclassified)\n",
    "    # print(f\"Iteration: {i + 1} misclassified: {misclassified}\")\n",
    "\n",
    "plt.plot(range(1, iterations + 1), mscl)\n",
    "plt.xlabel('iterations')\n",
    "plt.ylabel('misclassified')\n",
    "plt.show()"
   ],
   "metadata": {
    "collapsed": false,
    "pycharm": {
     "name": "#%%\n"
    }
   }
  }
 ],
 "metadata": {
  "kernelspec": {
   "display_name": "Python 3",
   "language": "python",
   "name": "python3"
  },
  "language_info": {
   "codemirror_mode": {
    "name": "ipython",
    "version": 2
   },
   "file_extension": ".py",
   "mimetype": "text/x-python",
   "name": "python",
   "nbconvert_exporter": "python",
   "pygments_lexer": "ipython2",
   "version": "2.7.6"
  }
 },
 "nbformat": 4,
 "nbformat_minor": 0
}